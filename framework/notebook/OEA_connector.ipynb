{
  "nbformat": 4,
  "nbformat_minor": 2,
  "metadata": {
    "kernelspec": {
      "name": "synapse_pyspark",
      "display_name": "Synapse PySpark"
    },
    "language_info": {
      "name": "python"
    },
    "description": null,
    "save_output": true,
    "synapse_widget": {
      "version": "0.1",
      "state": {}
    }
  },
  "cells": [
    {
      "cell_type": "markdown",
      "metadata": {
        "nteract": {
          "transient": {
            "deleting": false
          }
        }
      },
      "source": [
        "# OEA connector\n",
        "This notebook provides a way for invoking methods on the OEA framework or supporting modules from a pipeline.\n",
        "\n",
        "When setting up a new module, be sure to include a new cell below that imports that module, so that its methods can be invoked by pipelines."
      ]
    },
    {
      "cell_type": "code",
      "execution_count": null,
      "outputs": [],
      "metadata": {
        "jupyter": {
          "source_hidden": false,
          "outputs_hidden": false
        },
        "nteract": {
          "transient": {
            "deleting": false
          }
        },
        "tags": [
          "parameters"
        ]
      },
      "source": [
        "# These values should be passed in from the pipeline that is using this notebook as an activity.\r\n",
        "# Note that kwargs allows you to pass in a dict of params, but the dict has to specified as a string when invoked from a pipeline.\r\n",
        "# Also note that you can refer to attributes of an object in the params, for example: {'path':oea.stage2np}\r\n",
        "object_name = 'oea'\r\n",
        "method_name = ''\r\n",
        "kwargs = '{}'"
      ]
    },
    {
      "cell_type": "code",
      "execution_count": null,
      "outputs": [],
      "metadata": {
        "jupyter": {
          "outputs_hidden": false,
          "source_hidden": false
        },
        "nteract": {
          "transient": {
            "deleting": false
          }
        },
        "collapsed": true
      },
      "source": [
        "%run /OEA_py"
      ]
    },
    {
      "cell_type": "code",
      "execution_count": null,
      "outputs": [],
      "metadata": {
        "jupyter": {
          "outputs_hidden": false,
          "source_hidden": false
        },
        "nteract": {
          "transient": {
            "deleting": false
          }
        },
        "collapsed": true
      },
      "source": [
        "%run /ContosoSIS_py"
      ]
    },
    {
      "cell_type": "code",
      "execution_count": null,
      "outputs": [],
      "metadata": {
        "jupyter": {
          "source_hidden": false,
          "outputs_hidden": false
        },
        "nteract": {
          "transient": {
            "deleting": false
          }
        }
      },
      "source": [
        "obj = eval(object_name)\r\n",
        "kwargs = eval(kwargs)\r\n",
        "m = getattr(obj, method_name)\r\n",
        "result = m(**kwargs)\r\n",
        "mssparkutils.notebook.exit(result)"
      ]
    }
  ]
}