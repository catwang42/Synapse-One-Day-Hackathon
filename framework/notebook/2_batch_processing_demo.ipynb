{
  "cells": [
    {
      "cell_type": "markdown",
      "source": [
        "# OEA Demo\r\n",
        "This notebook demonstrates the batch processing features of the OEA framework."
      ],
      "metadata": {
        "nteract": {
          "transient": {
            "deleting": false
          }
        }
      }
    },
    {
      "cell_type": "code",
      "source": [
        "%run /OEA_py"
      ],
      "outputs": [],
      "execution_count": null,
      "metadata": {
        "jupyter": {
          "outputs_hidden": false,
          "source_hidden": false
        },
        "nteract": {
          "transient": {
            "deleting": false
          }
        },
        "collapsed": true
      }
    },
    {
      "cell_type": "markdown",
      "source": [
        "# Incremental batches"
      ],
      "metadata": {
        "nteract": {
          "transient": {
            "deleting": false
          }
        }
      }
    },
    {
      "cell_type": "code",
      "source": [
        "# reset this example (deletes data in stage1np/example, stage2np/example, and stage2p/example)\r\n",
        "oea.delete_data_source('example')"
      ],
      "outputs": [],
      "execution_count": null,
      "metadata": {
        "jupyter": {
          "source_hidden": false,
          "outputs_hidden": false
        },
        "nteract": {
          "transient": {
            "deleting": false
          }
        }
      }
    },
    {
      "cell_type": "code",
      "source": [
        "# Land the first batch of test data\r\n",
        "df1 = spark.createDataFrame([(1,'Joe','English','2021'), (2,'Helen','English','2021')], ['id', 'name', 'language', 'school_year'])\r\n",
        "oea.land('example', 'student', df1)\r\n",
        "# show what's landed in stage1\r\n",
        "df = oea.load_csv('stage1np/example/student')\r\n",
        "df.show()"
      ],
      "outputs": [],
      "execution_count": null,
      "metadata": {
        "jupyter": {
          "source_hidden": false,
          "outputs_hidden": false
        },
        "nteract": {
          "transient": {
            "deleting": false
          }
        }
      }
    },
    {
      "cell_type": "code",
      "source": [
        "# ingest the first batch of test data into stage2\r\n",
        "example_schema = [['id', 'string', 'hash'], ['name', 'string', 'mask'], ['language', 'string', 'no-op'], ['school_year', 'string', 'partition-by']]\r\n",
        "oea.ingest_incremental_data('example', 'student', example_schema, 'school_year', 'id')\r\n",
        "\r\n",
        "# show what's in stage2\r\n",
        "df = oea.load_delta('stage2np/example/student_lookup')\r\n",
        "df.show()\r\n",
        "df = oea.load_delta('stage2p/example/student_pseudo')\r\n",
        "df.show()"
      ],
      "outputs": [],
      "execution_count": null,
      "metadata": {
        "jupyter": {
          "source_hidden": false,
          "outputs_hidden": false
        },
        "nteract": {
          "transient": {
            "deleting": false
          }
        }
      }
    },
    {
      "cell_type": "code",
      "source": [
        "# land the second batch of test data\r\n",
        "df2 = spark.createDataFrame([(3,'Elisa','Spanish','2021'), (4,'Lily','English','2021')], ['id', 'name', 'language', 'school_year'])\r\n",
        "oea.land('example', 'student', df2)\r\n",
        "# show the comprehensive set of data landed in stage1\r\n",
        "df = oea.load_csv('stage1np/example/student')\r\n",
        "df.show()"
      ],
      "outputs": [],
      "execution_count": null,
      "metadata": {
        "jupyter": {
          "source_hidden": false,
          "outputs_hidden": false
        },
        "nteract": {
          "transient": {
            "deleting": false
          }
        }
      }
    },
    {
      "cell_type": "code",
      "source": [
        "# ingest the second batch of test data into stage2\r\n",
        "oea.ingest_incremental_data('example', 'student', example_schema, 'school_year', 'id')\r\n",
        "\r\n",
        "# show what's in stage2\r\n",
        "df = oea.load_delta('stage2np/example/student_lookup')\r\n",
        "df.show()\r\n",
        "df = oea.load_delta('stage2p/example/student_pseudo')\r\n",
        "df.show()\r\n",
        "df.printSchema()"
      ],
      "outputs": [],
      "execution_count": null,
      "metadata": {
        "jupyter": {
          "source_hidden": false,
          "outputs_hidden": false
        },
        "nteract": {
          "transient": {
            "deleting": false
          }
        }
      }
    },
    {
      "cell_type": "markdown",
      "source": [
        "# Delta batches"
      ],
      "metadata": {
        "nteract": {
          "transient": {
            "deleting": false
          }
        }
      }
    },
    {
      "cell_type": "code",
      "source": [
        "# reset this example (deletes data in stage1np/example, stage2np/example, and stage2p/example)\r\n",
        "oea.delete_data_source('delta_example')"
      ],
      "outputs": [],
      "execution_count": null,
      "metadata": {
        "jupyter": {
          "source_hidden": false,
          "outputs_hidden": false
        },
        "nteract": {
          "transient": {
            "deleting": false
          }
        }
      }
    },
    {
      "cell_type": "code",
      "source": [
        "# Land the first batch of test data\r\n",
        "df1 = spark.createDataFrame([(1,'Joseph','English','2021'), (2,'Helen','English','2021')], ['id', 'name', 'language', 'school_year'])\r\n",
        "oea.land('delta_example', 'student', df1)\r\n",
        "\r\n",
        "# show what's landed in stage1\r\n",
        "df = oea.load_csv('stage1np/delta_example/student')\r\n",
        "df.show()"
      ],
      "outputs": [],
      "execution_count": null,
      "metadata": {
        "jupyter": {
          "source_hidden": false,
          "outputs_hidden": false
        },
        "nteract": {
          "transient": {
            "deleting": false
          }
        }
      }
    },
    {
      "cell_type": "code",
      "source": [
        "# ingest the first batch of test data into stage2\r\n",
        "example_schema = [['id', 'string', 'hash'], ['name', 'string', 'mask'], ['language', 'string', 'no-op'], ['school_year', 'string', 'partition-by']]\r\n",
        "oea.ingest_delta_data('delta_example', 'student', example_schema, 'school_year')\r\n",
        "\r\n",
        "# show what's in stage2\r\n",
        "df = oea.load_delta('stage2np/delta_example/student_lookup')\r\n",
        "df.show()\r\n",
        "df = oea.load_delta('stage2p/delta_example/student_pseudo')\r\n",
        "df.show()"
      ],
      "outputs": [],
      "execution_count": null,
      "metadata": {
        "jupyter": {
          "source_hidden": false,
          "outputs_hidden": false
        },
        "nteract": {
          "transient": {
            "deleting": false
          }
        }
      }
    },
    {
      "cell_type": "code",
      "source": [
        "# Land the second batch of test data\r\n",
        "df2 = spark.createDataFrame([(1,'Joseph','Spanish','2021'), (3,'Elisa','Spanish','2021')], ['id', 'name', 'language', 'school_year'])\r\n",
        "oea.land('delta_example', 'student', df2)\r\n",
        "\r\n",
        "# show what's landed in stage1\r\n",
        "df = oea.load_csv('stage1np/delta_example/student')\r\n",
        "df.show()"
      ],
      "outputs": [],
      "execution_count": null,
      "metadata": {
        "jupyter": {
          "source_hidden": false,
          "outputs_hidden": false
        },
        "nteract": {
          "transient": {
            "deleting": false
          }
        }
      }
    },
    {
      "cell_type": "code",
      "source": [
        "# ingest the second batch of test data into stage2\r\n",
        "oea.ingest_delta_data('delta_example', 'student', example_schema, 'school_year')\r\n",
        "\r\n",
        "# show what's in stage2\r\n",
        "df = oea.load_delta('stage2np/delta_example/student_lookup')\r\n",
        "df.show()\r\n",
        "df = oea.load_delta('stage2p/delta_example/student_pseudo')\r\n",
        "df.show()\r\n",
        "df.printSchema()"
      ],
      "outputs": [],
      "execution_count": null,
      "metadata": {
        "jupyter": {
          "source_hidden": false,
          "outputs_hidden": false
        },
        "nteract": {
          "transient": {
            "deleting": false
          }
        }
      }
    },
    {
      "cell_type": "markdown",
      "source": [
        "# Snapshot batches"
      ],
      "metadata": {
        "nteract": {
          "transient": {
            "deleting": false
          }
        }
      }
    },
    {
      "cell_type": "code",
      "source": [
        "# reset this example (deletes data in stage1np/example, stage2np/example, and stage2p/example)\r\n",
        "oea.delete_data_source('snapshot_example')"
      ],
      "outputs": [],
      "execution_count": null,
      "metadata": {
        "jupyter": {
          "source_hidden": false,
          "outputs_hidden": false
        },
        "nteract": {
          "transient": {
            "deleting": false
          }
        }
      }
    },
    {
      "cell_type": "code",
      "source": [
        "# land data in stage1\r\n",
        "df1 = spark.createDataFrame([(1,'Joseph','English','2021'), (2,'Helen','English','2021')], ['id', 'name', 'language', 'school_year'])\r\n",
        "oea.land('snapshot_example', 'student', df1)\r\n",
        "\r\n",
        "# show what's landed in stage1\r\n",
        "df = oea.load_csv('stage1np/snapshot_example/student')\r\n",
        "df.show()"
      ],
      "outputs": [],
      "execution_count": null,
      "metadata": {
        "jupyter": {
          "source_hidden": false,
          "outputs_hidden": false
        },
        "nteract": {
          "transient": {
            "deleting": false
          }
        }
      }
    },
    {
      "cell_type": "code",
      "source": [
        "# process data from stage1 into stage2\r\n",
        "example_schema = [['id', 'string', 'hash'], ['name', 'string', 'mask'], ['language', 'string', 'no-op'], ['school_year', 'string', 'partition-by']]\r\n",
        "oea.ingest_snapshot_data('snapshot_example', 'student', example_schema, 'school_year')\r\n",
        "\r\n",
        "# show what's in stage2\r\n",
        "df = oea.load_delta('stage2np/snapshot_example/student_lookup')\r\n",
        "df.show()\r\n",
        "df = oea.load_delta('stage2p/snapshot_example/student_pseudo')\r\n",
        "df.show()\r\n",
        "df.printSchema()"
      ],
      "outputs": [],
      "execution_count": null,
      "metadata": {
        "jupyter": {
          "source_hidden": false,
          "outputs_hidden": false
        },
        "nteract": {
          "transient": {
            "deleting": false
          }
        }
      }
    },
    {
      "cell_type": "code",
      "source": [
        "# land the second test data batch in stage1\r\n",
        "df2 = spark.createDataFrame([(1,'Joseph','Spanish','2021'), (3,'Elisa','Spanish','2021')], ['id', 'name', 'language', 'school_year'])\r\n",
        "oea.land('snapshot_example', 'student', df2)\r\n",
        "\r\n",
        "# show what's landed in stage1\r\n",
        "df = oea.load_csv('stage1np/snapshot_example/student')\r\n",
        "df.show()"
      ],
      "outputs": [],
      "execution_count": null,
      "metadata": {
        "jupyter": {
          "source_hidden": false,
          "outputs_hidden": false
        },
        "nteract": {
          "transient": {
            "deleting": false
          }
        }
      }
    },
    {
      "cell_type": "code",
      "source": [
        "# process data from stage1 into stage2\r\n",
        "example_schema = [['id', 'string', 'hash'], ['name', 'string', 'mask'], ['language', 'string', 'no-op'], ['school_year', 'string', 'partition-by']]\r\n",
        "oea.ingest_snapshot_data('snapshot_example', 'student', example_schema, 'school_year')\r\n",
        "\r\n",
        "# show what's in stage2\r\n",
        "df = oea.load_delta('stage2np/snapshot_example/student_lookup')\r\n",
        "df.show()\r\n",
        "df = oea.load_delta('stage2p/snapshot_example/student_pseudo')\r\n",
        "df.show()\r\n",
        "df.printSchema()"
      ],
      "outputs": [],
      "execution_count": null,
      "metadata": {
        "jupyter": {
          "source_hidden": false,
          "outputs_hidden": false
        },
        "nteract": {
          "transient": {
            "deleting": false
          }
        }
      }
    }
  ],
  "metadata": {
    "kernelspec": {
      "name": "synapse_pyspark",
      "display_name": "Synapse PySpark"
    },
    "language_info": {
      "name": "python"
    },
    "description": null,
    "save_output": true,
    "synapse_widget": {
      "version": "0.1",
      "state": {}
    }
  },
  "nbformat": 4,
  "nbformat_minor": 2
}